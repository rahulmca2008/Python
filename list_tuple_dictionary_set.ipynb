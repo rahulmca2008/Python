{
 "cells": [
  {
   "cell_type": "markdown",
   "id": "70693a8a-4d0c-4495-9352-5e0ae2567df0",
   "metadata": {},
   "source": [
    "##### Variable name does not start with number.\n",
    "##### variable name start with alphabet, _"
   ]
  },
  {
   "cell_type": "markdown",
   "id": "dcab9846-e218-469a-961c-ebff06bb2010",
   "metadata": {},
   "source": [
    "## List\n",
    "### List is mutable, it can be changed , item assignment.\n",
    "##### inbuilt data structure in python\n",
    "##### starts with []"
   ]
  },
  {
   "cell_type": "code",
   "execution_count": 2,
   "id": "17acc2b4-b447-4d27-bd8e-57820aca5eca",
   "metadata": {},
   "outputs": [
    {
     "data": {
      "text/plain": [
       "[1, 2, 3, 5, 4, 9]"
      ]
     },
     "execution_count": 2,
     "metadata": {},
     "output_type": "execute_result"
    }
   ],
   "source": [
    "lst1 = [1,2,3,5,4,9]\n",
    "lst1"
   ]
  },
  {
   "cell_type": "code",
   "execution_count": 3,
   "id": "0bb1df79-34c2-485a-a324-a2d8d60ef787",
   "metadata": {},
   "outputs": [
    {
     "data": {
      "text/plain": [
       "[1, 2, 3, 5, 4, 9, 10]"
      ]
     },
     "execution_count": 3,
     "metadata": {},
     "output_type": "execute_result"
    }
   ],
   "source": [
    "# add element in the las\n",
    "lst1.append(10)\n",
    "lst1"
   ]
  },
  {
   "cell_type": "code",
   "execution_count": 4,
   "id": "efa15654-201a-48f0-b7e0-683af868fbb2",
   "metadata": {},
   "outputs": [
    {
     "data": {
      "text/plain": [
       "[1, 2, 3, 5, 4, 4, 9, 10]"
      ]
     },
     "execution_count": 4,
     "metadata": {},
     "output_type": "execute_result"
    }
   ],
   "source": [
    "# insert the element in position4 \n",
    "lst1.insert(4,4)\n",
    "lst1"
   ]
  },
  {
   "cell_type": "code",
   "execution_count": 5,
   "id": "9e3dcf3c-9dd3-49ad-bd21-35744587ac72",
   "metadata": {},
   "outputs": [
    {
     "data": {
      "text/plain": [
       "10"
      ]
     },
     "execution_count": 5,
     "metadata": {},
     "output_type": "execute_result"
    }
   ],
   "source": [
    "# take out the last element \n",
    "taken_element = lst1.pop()\n",
    "taken_element"
   ]
  },
  {
   "cell_type": "code",
   "execution_count": 6,
   "id": "9e2069ef-e8b0-46d9-a99b-7f205eb400d9",
   "metadata": {},
   "outputs": [
    {
     "data": {
      "text/plain": [
       "[1, 2, 3, 5, 4, 4, 9]"
      ]
     },
     "execution_count": 6,
     "metadata": {},
     "output_type": "execute_result"
    }
   ],
   "source": [
    "lst1"
   ]
  },
  {
   "cell_type": "code",
   "execution_count": 7,
   "id": "259ff481-dd4c-400e-b30f-ad726abacf5f",
   "metadata": {},
   "outputs": [
    {
     "name": "stdout",
     "output_type": "stream",
     "text": [
      "taken_position_element: 4\n"
     ]
    },
    {
     "data": {
      "text/plain": [
       "[1, 2, 3, 5, 4, 9]"
      ]
     },
     "execution_count": 7,
     "metadata": {},
     "output_type": "execute_result"
    }
   ],
   "source": [
    "taken_position_element = lst1.pop(4)\n",
    "print(f\"taken_position_element: {taken_position_element}\")\n",
    "lst1"
   ]
  },
  {
   "cell_type": "code",
   "execution_count": 8,
   "id": "aaa42bec-cf97-432b-874c-d48e57038f99",
   "metadata": {},
   "outputs": [
    {
     "data": {
      "text/plain": [
       "[1, 2, 3, 5, 9]"
      ]
     },
     "execution_count": 8,
     "metadata": {},
     "output_type": "execute_result"
    }
   ],
   "source": [
    "del lst1[4]\n",
    "lst1"
   ]
  },
  {
   "cell_type": "code",
   "execution_count": 12,
   "id": "a2f33e58-aaf4-40d7-b177-48fad394ce54",
   "metadata": {},
   "outputs": [
    {
     "name": "stdout",
     "output_type": "stream",
     "text": [
      "hello world 4 hey sharath i am done\n",
      "hello world 4 no no sharath this is also fine even better \n"
     ]
    }
   ],
   "source": [
    "print(\"hello world\",taken_position_element,\"hey sharath i am done\")\n",
    "print(f\"hello world {taken_position_element} no no sharath this is also fine even better \")"
   ]
  },
  {
   "cell_type": "code",
   "execution_count": 18,
   "id": "d9a5384e-6160-4059-bd35-a52597843ac8",
   "metadata": {},
   "outputs": [
    {
     "data": {
      "text/plain": [
       "[1, 3, 5, 9, 5, 2, 2, 5]"
      ]
     },
     "execution_count": 18,
     "metadata": {},
     "output_type": "execute_result"
    }
   ],
   "source": [
    "lst1.append(2)\n",
    "lst1.append(2)\n",
    "lst1.append(5)\n",
    "lst1"
   ]
  },
  {
   "cell_type": "code",
   "execution_count": 17,
   "id": "833236a7-c2b0-4d94-9260-f0c9027ef8bc",
   "metadata": {},
   "outputs": [
    {
     "data": {
      "text/plain": [
       "[1, 3, 5, 9, 5]"
      ]
     },
     "execution_count": 17,
     "metadata": {},
     "output_type": "execute_result"
    }
   ],
   "source": [
    "lst1.remove(2) # first occurance of element is being removed from list \n",
    "lst1"
   ]
  },
  {
   "cell_type": "code",
   "execution_count": 14,
   "id": "bfd79f92-b059-439d-af48-ed2ef0cacdc6",
   "metadata": {},
   "outputs": [
    {
     "data": {
      "text/plain": [
       "[1, 3, 5, 9]"
      ]
     },
     "execution_count": 14,
     "metadata": {},
     "output_type": "execute_result"
    }
   ],
   "source": [
    "lst1"
   ]
  },
  {
   "cell_type": "code",
   "execution_count": 28,
   "id": "2ae39975-9215-4169-b3c8-a757a665ebba",
   "metadata": {},
   "outputs": [
    {
     "name": "stdout",
     "output_type": "stream",
     "text": [
      "[1, 3, 5, 9, 5, 2, 2, 5]\n"
     ]
    },
    {
     "data": {
      "text/plain": [
       "8"
      ]
     },
     "execution_count": 28,
     "metadata": {},
     "output_type": "execute_result"
    }
   ],
   "source": [
    "print(lst1)\n",
    "len(lst1) # to get the length of list"
   ]
  },
  {
   "cell_type": "code",
   "execution_count": 33,
   "id": "2b3f31a1-8bfc-4aa5-b530-6f578ec60643",
   "metadata": {},
   "outputs": [
    {
     "data": {
      "text/plain": [
       "[5, 2, 2, 5, 9, 5, 3, 1]"
      ]
     },
     "execution_count": 33,
     "metadata": {},
     "output_type": "execute_result"
    }
   ],
   "source": [
    "# reverse the list\n",
    "lst1.reverse()\n",
    "lst1"
   ]
  },
  {
   "cell_type": "code",
   "execution_count": 35,
   "id": "a85f8ad1-f889-4432-8dc0-63129b1e6116",
   "metadata": {},
   "outputs": [
    {
     "name": "stdout",
     "output_type": "stream",
     "text": [
      "[5, 2, 2, 5, 9, 5, 3, 1]\n",
      "[1, 2, 2, 3, 5, 5, 5, 9]\n",
      "[5, 2, 2, 5, 9, 5, 3, 1]\n"
     ]
    }
   ],
   "source": [
    "# sort the list\n",
    "lst2 = lst1[:] # copy the list\n",
    "lst2.sort() # it can do permanent reflect in the list itself\n",
    "lst2\n",
    "print(lst1)\n",
    "print(sorted(lst1)) # temporary does not reflect in list but it gives copy of sorted list.\n",
    "print(lst1)"
   ]
  },
  {
   "cell_type": "markdown",
   "id": "56578422-6213-42fe-b4b3-eae793e9b8cc",
   "metadata": {},
   "source": [
    "### Accessing list elements"
   ]
  },
  {
   "cell_type": "code",
   "execution_count": 19,
   "id": "8a7de894-c196-4a04-a360-2ddb819696c6",
   "metadata": {},
   "outputs": [
    {
     "data": {
      "text/plain": [
       "5"
      ]
     },
     "execution_count": 19,
     "metadata": {},
     "output_type": "execute_result"
    }
   ],
   "source": [
    "lst1[2]"
   ]
  },
  {
   "cell_type": "code",
   "execution_count": 21,
   "id": "a5fa63bc-9a72-4a26-bdcf-ff40bb65cd3a",
   "metadata": {},
   "outputs": [
    {
     "data": {
      "text/plain": [
       "[3, 5]"
      ]
     },
     "execution_count": 21,
     "metadata": {},
     "output_type": "execute_result"
    }
   ],
   "source": [
    "lst1[1:3]"
   ]
  },
  {
   "cell_type": "code",
   "execution_count": 22,
   "id": "cc350127-f892-4785-8fa5-5e9958b9f6f2",
   "metadata": {},
   "outputs": [
    {
     "data": {
      "text/plain": [
       "5"
      ]
     },
     "execution_count": 22,
     "metadata": {},
     "output_type": "execute_result"
    }
   ],
   "source": [
    "lst1[-1]"
   ]
  },
  {
   "cell_type": "code",
   "execution_count": 23,
   "id": "41927192-efdf-4a24-bf5c-6a2b9805bd75",
   "metadata": {},
   "outputs": [
    {
     "name": "stdout",
     "output_type": "stream",
     "text": [
      "[1, 3, 5, 9, 5, 2, 2, 5]\n"
     ]
    }
   ],
   "source": [
    "print(lst1)"
   ]
  },
  {
   "cell_type": "code",
   "execution_count": 26,
   "id": "a31c277b-ae90-461e-a2a6-477e01a26992",
   "metadata": {},
   "outputs": [
    {
     "data": {
      "text/plain": [
       "[2, 2, 5]"
      ]
     },
     "execution_count": 26,
     "metadata": {},
     "output_type": "execute_result"
    }
   ],
   "source": [
    "lst1[-3:]"
   ]
  },
  {
   "cell_type": "markdown",
   "id": "23c4336f-af27-4a0b-875e-29d0d319bdb2",
   "metadata": {},
   "source": [
    "#### List Comprehension \n",
    "[expr for item in list condition] - recommended\n"
   ]
  },
  {
   "cell_type": "code",
   "execution_count": 1,
   "id": "d37d856b-17c4-41a3-8666-25831d120125",
   "metadata": {},
   "outputs": [
    {
     "name": "stdout",
     "output_type": "stream",
     "text": [
      "name:Devraj and its length 6\n",
      "name:Sharath and its length 7\n",
      "name:Mukesh and its length 6\n",
      "name:Suresh and its length 6\n",
      "name:Ganesh and its length 6\n"
     ]
    }
   ],
   "source": [
    "lst2 = ['Devraj','Sharath','Mukesh','Suresh','Ganesh']\n",
    "for name in lst2:\n",
    "    print(f\"name:{name} and its length {len(name)}\")"
   ]
  },
  {
   "cell_type": "code",
   "execution_count": 8,
   "id": "f9766acd-aa32-4924-bdfe-39038c993b1d",
   "metadata": {},
   "outputs": [
    {
     "data": {
      "text/plain": [
       "[7]"
      ]
     },
     "execution_count": 8,
     "metadata": {},
     "output_type": "execute_result"
    }
   ],
   "source": [
    "[len(name) for name in lst2 if len(name)>6]"
   ]
  },
  {
   "cell_type": "markdown",
   "id": "1090a385-7adc-4087-8fb1-6d6e45d23b71",
   "metadata": {},
   "source": [
    "### Tuple\n",
    "#### it immutable, can not be changed\n",
    "#### starts with ()\n",
    "### 2 methods count(element) , index(element)"
   ]
  },
  {
   "cell_type": "code",
   "execution_count": 10,
   "id": "29834204-776c-42f0-9aa4-54975f38526c",
   "metadata": {},
   "outputs": [
    {
     "data": {
      "text/plain": [
       "(1, 2, 3, 6)"
      ]
     },
     "execution_count": 10,
     "metadata": {},
     "output_type": "execute_result"
    }
   ],
   "source": [
    "tup1 = (1,2,3,6)\n",
    "tup1"
   ]
  },
  {
   "cell_type": "code",
   "execution_count": 11,
   "id": "0e0fc60f-b374-4d36-bc0b-b94fbce893dc",
   "metadata": {},
   "outputs": [
    {
     "data": {
      "text/plain": [
       "(1, 2, 3, 4)"
      ]
     },
     "execution_count": 11,
     "metadata": {},
     "output_type": "execute_result"
    }
   ],
   "source": [
    "lst3 = [1,2,3,4]\n",
    "tup2 = tuple(lst3)\n",
    "tup2"
   ]
  },
  {
   "cell_type": "code",
   "execution_count": 12,
   "id": "9b342037-f6e8-498b-b4e6-14f6a3f34cd0",
   "metadata": {},
   "outputs": [
    {
     "data": {
      "text/plain": [
       "1"
      ]
     },
     "execution_count": 12,
     "metadata": {},
     "output_type": "execute_result"
    }
   ],
   "source": [
    "tup1[0]"
   ]
  },
  {
   "cell_type": "code",
   "execution_count": 13,
   "id": "53b86937-3a6f-49e1-8851-6bad38993f76",
   "metadata": {},
   "outputs": [
    {
     "ename": "TypeError",
     "evalue": "'tuple' object does not support item assignment",
     "output_type": "error",
     "traceback": [
      "\u001b[1;31m---------------------------------------------------------------------------\u001b[0m",
      "\u001b[1;31mTypeError\u001b[0m                                 Traceback (most recent call last)",
      "Input \u001b[1;32mIn [13]\u001b[0m, in \u001b[0;36m<cell line: 1>\u001b[1;34m()\u001b[0m\n\u001b[1;32m----> 1\u001b[0m tup1[\u001b[38;5;241m0\u001b[39m]\u001b[38;5;241m=\u001b[39m\u001b[38;5;241m5\u001b[39m\n",
      "\u001b[1;31mTypeError\u001b[0m: 'tuple' object does not support item assignment"
     ]
    }
   ],
   "source": [
    "tup1[0]=5"
   ]
  },
  {
   "cell_type": "code",
   "execution_count": 14,
   "id": "89673cda-fced-46af-ab49-4aba69d3ec5e",
   "metadata": {},
   "outputs": [],
   "source": [
    "lst3[0]=7"
   ]
  },
  {
   "cell_type": "code",
   "execution_count": 16,
   "id": "cfd55d07-9a38-45af-8fbc-81cb6e05aa68",
   "metadata": {},
   "outputs": [
    {
     "name": "stdout",
     "output_type": "stream",
     "text": [
      "(1, 2, 3, 4)\n"
     ]
    },
    {
     "data": {
      "text/plain": [
       "(100, 200)"
      ]
     },
     "execution_count": 16,
     "metadata": {},
     "output_type": "execute_result"
    }
   ],
   "source": [
    "print(tup2)\n",
    "tup2 = (100,200)\n",
    "tup2"
   ]
  },
  {
   "cell_type": "code",
   "execution_count": 17,
   "id": "45d61637-ed30-409f-bfaa-ad95f8888ad9",
   "metadata": {},
   "outputs": [
    {
     "data": {
      "text/plain": [
       "(100, 200, [1, 2, 3], 5)"
      ]
     },
     "execution_count": 17,
     "metadata": {},
     "output_type": "execute_result"
    }
   ],
   "source": [
    "tup2 = (100,200,[1,2,3],5)\n",
    "tup2"
   ]
  },
  {
   "cell_type": "code",
   "execution_count": 18,
   "id": "021361d4-9f62-4199-b474-28b3240d30d1",
   "metadata": {},
   "outputs": [
    {
     "data": {
      "text/plain": [
       "[1, 2, 3, (5, 6), 9]"
      ]
     },
     "execution_count": 18,
     "metadata": {},
     "output_type": "execute_result"
    }
   ],
   "source": [
    "lst3 = [1,2,3,(5,6),9]\n",
    "lst3"
   ]
  },
  {
   "cell_type": "code",
   "execution_count": 20,
   "id": "d325bf64-1feb-4067-aa85-c6abcfe89729",
   "metadata": {},
   "outputs": [
    {
     "data": {
      "text/plain": [
       "(100, 200, [5, 2, 3], 5)"
      ]
     },
     "execution_count": 20,
     "metadata": {},
     "output_type": "execute_result"
    }
   ],
   "source": [
    "tup2[2][0]=5\n",
    "tup2"
   ]
  },
  {
   "cell_type": "code",
   "execution_count": 22,
   "id": "82ddef22-c6f3-4f7e-8d95-2ea035ea23d9",
   "metadata": {},
   "outputs": [
    {
     "data": {
      "text/plain": [
       "1"
      ]
     },
     "execution_count": 22,
     "metadata": {},
     "output_type": "execute_result"
    }
   ],
   "source": [
    "tup2.count(5) "
   ]
  },
  {
   "cell_type": "code",
   "execution_count": 23,
   "id": "dcf51c33-30c2-4e80-b804-2ea5761622de",
   "metadata": {},
   "outputs": [
    {
     "data": {
      "text/plain": [
       "1"
      ]
     },
     "execution_count": 23,
     "metadata": {},
     "output_type": "execute_result"
    }
   ],
   "source": [
    "tup2.index(200)"
   ]
  },
  {
   "cell_type": "code",
   "execution_count": 24,
   "id": "18df6e12-7c1e-4ecf-9402-c6ee9bc081b1",
   "metadata": {},
   "outputs": [
    {
     "name": "stdout",
     "output_type": "stream",
     "text": [
      "100\n",
      "200\n",
      "[5, 2, 3]\n",
      "5\n"
     ]
    }
   ],
   "source": [
    "for element in tup2:\n",
    "    print(element)"
   ]
  },
  {
   "cell_type": "markdown",
   "id": "1841f98e-2b44-46fe-9e5f-ddca05e3802f",
   "metadata": {},
   "source": [
    "### Dictionary\n",
    "#### Key-value pair\n",
    "#### keys and value method"
   ]
  },
  {
   "cell_type": "code",
   "execution_count": 28,
   "id": "57c0296f-c484-4d9c-9a62-a2fa1bbcad3e",
   "metadata": {},
   "outputs": [
    {
     "data": {
      "text/plain": [
       "{'a': 1, 'b': 2, 'c': 3, 'd': 4}"
      ]
     },
     "execution_count": 28,
     "metadata": {},
     "output_type": "execute_result"
    }
   ],
   "source": [
    "dict1={'a':1,'b':2,'c':3,'d':4}\n",
    "dict1"
   ]
  },
  {
   "cell_type": "code",
   "execution_count": 29,
   "id": "bdb7201c-15ba-4bde-9a99-0da93fc82c37",
   "metadata": {},
   "outputs": [
    {
     "data": {
      "text/plain": [
       "2"
      ]
     },
     "execution_count": 29,
     "metadata": {},
     "output_type": "execute_result"
    }
   ],
   "source": [
    "dict1['b']"
   ]
  },
  {
   "cell_type": "code",
   "execution_count": 30,
   "id": "a44adcfe-a5bd-4476-98fa-cce5f5387a9e",
   "metadata": {},
   "outputs": [
    {
     "data": {
      "text/plain": [
       "dict_keys(['a', 'b', 'c', 'd'])"
      ]
     },
     "execution_count": 30,
     "metadata": {},
     "output_type": "execute_result"
    }
   ],
   "source": [
    "dict1.keys()"
   ]
  },
  {
   "cell_type": "code",
   "execution_count": 31,
   "id": "ffb4ef4d-65e8-4fc1-97de-58129b640c70",
   "metadata": {},
   "outputs": [
    {
     "data": {
      "text/plain": [
       "dict_values([1, 2, 3, 4])"
      ]
     },
     "execution_count": 31,
     "metadata": {},
     "output_type": "execute_result"
    }
   ],
   "source": [
    "dict1.values()"
   ]
  },
  {
   "cell_type": "code",
   "execution_count": 33,
   "id": "2b47dd54-416b-4d15-99b4-4db4e1668011",
   "metadata": {},
   "outputs": [
    {
     "data": {
      "text/plain": [
       "{'a': 1, 'b': 2, 'c': 3, 'd': 4, 'e': 5}"
      ]
     },
     "execution_count": 33,
     "metadata": {},
     "output_type": "execute_result"
    }
   ],
   "source": [
    "dict1['e']= 5\n",
    "dict1"
   ]
  },
  {
   "cell_type": "code",
   "execution_count": 34,
   "id": "6fdb8dfb-0b67-400c-8d0d-635d21239311",
   "metadata": {},
   "outputs": [
    {
     "data": {
      "text/plain": [
       "{'a': 9, 'b': 2, 'c': 3, 'd': 4, 'e': 5}"
      ]
     },
     "execution_count": 34,
     "metadata": {},
     "output_type": "execute_result"
    }
   ],
   "source": [
    "dict1['a'] = 9\n",
    "dict1"
   ]
  },
  {
   "cell_type": "code",
   "execution_count": 36,
   "id": "6b7461fd-c63f-4b23-bbf9-7b9bc7cdf0bb",
   "metadata": {},
   "outputs": [
    {
     "data": {
      "text/plain": [
       "5"
      ]
     },
     "execution_count": 36,
     "metadata": {},
     "output_type": "execute_result"
    }
   ],
   "source": [
    "dict1.pop('e')"
   ]
  },
  {
   "cell_type": "code",
   "execution_count": 38,
   "id": "4ab068a9-9e8f-44c2-b743-fbc80765d27a",
   "metadata": {},
   "outputs": [
    {
     "data": {
      "text/plain": [
       "{'b': 2, 'c': 3, 'd': 4}"
      ]
     },
     "execution_count": 38,
     "metadata": {},
     "output_type": "execute_result"
    }
   ],
   "source": [
    "popped_value = dict1.pop('a')\n",
    "dict1"
   ]
  },
  {
   "cell_type": "code",
   "execution_count": 39,
   "id": "5c46465c-a262-490f-9f74-b82f860da72c",
   "metadata": {},
   "outputs": [
    {
     "data": {
      "text/plain": [
       "9"
      ]
     },
     "execution_count": 39,
     "metadata": {},
     "output_type": "execute_result"
    }
   ],
   "source": [
    "popped_value"
   ]
  },
  {
   "cell_type": "code",
   "execution_count": 43,
   "id": "fddcc8ae-b495-4209-8880-89136d183b1b",
   "metadata": {},
   "outputs": [
    {
     "name": "stdout",
     "output_type": "stream",
     "text": [
      "2\n"
     ]
    }
   ],
   "source": [
    "print(dict1.get('b'))\n",
    "dict1.get('f') # get does not give any error if index is not there. if its there , it will give the value of index"
   ]
  },
  {
   "cell_type": "code",
   "execution_count": 49,
   "id": "7a8c8586-2328-4754-96d0-af969f1d1243",
   "metadata": {},
   "outputs": [],
   "source": [
    "dict1.update({'b':5,'d':9})"
   ]
  },
  {
   "cell_type": "code",
   "execution_count": 50,
   "id": "3fbef292-c619-4f03-80ab-0296e48491e1",
   "metadata": {},
   "outputs": [
    {
     "data": {
      "text/plain": [
       "{'b': 5, 'c': 3, 'd': 9}"
      ]
     },
     "execution_count": 50,
     "metadata": {},
     "output_type": "execute_result"
    }
   ],
   "source": [
    "dict1"
   ]
  },
  {
   "cell_type": "code",
   "execution_count": 51,
   "id": "7174d6e9-8f15-490a-a168-861f886a693d",
   "metadata": {},
   "outputs": [],
   "source": [
    "del dict1['d']"
   ]
  },
  {
   "cell_type": "code",
   "execution_count": 52,
   "id": "c2f4d55a-dc77-4893-a6a4-1ca6a0a16de7",
   "metadata": {},
   "outputs": [
    {
     "data": {
      "text/plain": [
       "{'b': 5, 'c': 3}"
      ]
     },
     "execution_count": 52,
     "metadata": {},
     "output_type": "execute_result"
    }
   ],
   "source": [
    "dict1"
   ]
  },
  {
   "cell_type": "code",
   "execution_count": 54,
   "id": "f4b294a9-c691-4a88-9ce0-a328b340559a",
   "metadata": {},
   "outputs": [
    {
     "name": "stdout",
     "output_type": "stream",
     "text": [
      "b 5\n",
      "c 3\n"
     ]
    }
   ],
   "source": [
    "for k,v in dict1.items():\n",
    "    print(k,v)"
   ]
  },
  {
   "cell_type": "code",
   "execution_count": 55,
   "id": "b211497d-e226-415a-9d2d-4b5c64e8cea2",
   "metadata": {},
   "outputs": [
    {
     "name": "stdout",
     "output_type": "stream",
     "text": [
      "5\n",
      "3\n"
     ]
    }
   ],
   "source": [
    "for k in dict1.keys():\n",
    "    print(dict1[k])"
   ]
  },
  {
   "cell_type": "code",
   "execution_count": 56,
   "id": "505792a8-11c8-4756-aaf2-a198f03ee40d",
   "metadata": {},
   "outputs": [
    {
     "name": "stdout",
     "output_type": "stream",
     "text": [
      "5\n",
      "3\n"
     ]
    }
   ],
   "source": [
    "for v in dict1.values():\n",
    "    print(v)"
   ]
  },
  {
   "cell_type": "code",
   "execution_count": null,
   "id": "1a70afce-9c69-4259-a65b-b363a339dd3a",
   "metadata": {},
   "outputs": [],
   "source": [
    "# list of dictionary\n",
    "# dictionary in dictionary\n",
    "# dictionary can keep list"
   ]
  },
  {
   "cell_type": "code",
   "execution_count": 57,
   "id": "5a096b87-e919-4f1c-9c04-db55eabe87c7",
   "metadata": {},
   "outputs": [
    {
     "data": {
      "text/plain": [
       "[{'alien0': 0, 'alien1': 1}, {'alien3': 0, 'alien4': 1}]"
      ]
     },
     "execution_count": 57,
     "metadata": {},
     "output_type": "execute_result"
    }
   ],
   "source": [
    "dict2 = {'alien0':0,'alien1':1}\n",
    "dict3 = {'alien3':0,'alien4':1}\n",
    "lst4 = [dict2,dict3]\n",
    "lst4"
   ]
  },
  {
   "cell_type": "code",
   "execution_count": 58,
   "id": "97e5040d-725a-4c98-8a3a-6fbd2fb48883",
   "metadata": {},
   "outputs": [
    {
     "data": {
      "text/plain": [
       "{'alien6': 6, 'alien7': {'alien3': 0, 'alien4': 1}}"
      ]
     },
     "execution_count": 58,
     "metadata": {},
     "output_type": "execute_result"
    }
   ],
   "source": [
    "dict4 = {'alien6':6,'alien7':dict3}\n",
    "dict4"
   ]
  },
  {
   "cell_type": "code",
   "execution_count": 59,
   "id": "d37b76fe-a8ae-434a-bbde-25907830cdc2",
   "metadata": {},
   "outputs": [
    {
     "data": {
      "text/plain": [
       "{'alien8': 8,\n",
       " 'alien9': [{'alien0': 0, 'alien1': 1}, {'alien3': 0, 'alien4': 1}]}"
      ]
     },
     "execution_count": 59,
     "metadata": {},
     "output_type": "execute_result"
    }
   ],
   "source": [
    "dict5 = {'alien8':8,'alien9':lst4}\n",
    "dict5"
   ]
  },
  {
   "cell_type": "markdown",
   "id": "35a3346c-ef88-407d-a186-77817c183dc1",
   "metadata": {},
   "source": [
    "### Set \n",
    "#### set does not keep the duplicate value\n",
    "#### start with {}"
   ]
  },
  {
   "cell_type": "code",
   "execution_count": 61,
   "id": "127e41bc-7ec0-42ce-bd47-d5287b542a51",
   "metadata": {},
   "outputs": [
    {
     "data": {
      "text/plain": [
       "{1, 2, 3, 5, 6}"
      ]
     },
     "execution_count": 61,
     "metadata": {},
     "output_type": "execute_result"
    }
   ],
   "source": [
    "lst3 = [1,2,3,2,2,3,5,6]\n",
    "set1 = set(lst3)\n",
    "set1"
   ]
  },
  {
   "cell_type": "code",
   "execution_count": 75,
   "id": "cfe6bd57-b75e-411f-a67f-1974135c3bde",
   "metadata": {},
   "outputs": [
    {
     "data": {
      "text/plain": [
       "{'a', 'b', 'c', 'd'}"
      ]
     },
     "execution_count": 75,
     "metadata": {},
     "output_type": "execute_result"
    }
   ],
   "source": [
    "set2 = {'a','b','c','d'}\n",
    "set2"
   ]
  },
  {
   "cell_type": "code",
   "execution_count": 64,
   "id": "35bf9535-9803-46af-931c-02ed19bf58e2",
   "metadata": {},
   "outputs": [
    {
     "data": {
      "text/plain": [
       "{'a', 'b', 'c', 'd', 'e'}"
      ]
     },
     "execution_count": 64,
     "metadata": {},
     "output_type": "execute_result"
    }
   ],
   "source": [
    "set2.add('e')\n",
    "set2"
   ]
  },
  {
   "cell_type": "code",
   "execution_count": 76,
   "id": "c035987a-1ab8-4ce1-b558-44190299a9db",
   "metadata": {},
   "outputs": [
    {
     "data": {
      "text/plain": [
       "'c'"
      ]
     },
     "execution_count": 76,
     "metadata": {},
     "output_type": "execute_result"
    }
   ],
   "source": [
    "set2.pop() # remove an arbitrary element"
   ]
  },
  {
   "cell_type": "code",
   "execution_count": 78,
   "id": "f9cea18b-e0ab-4b53-88e7-4e14ace62a0a",
   "metadata": {},
   "outputs": [
    {
     "data": {
      "text/plain": [
       "{'a', 'b', 'd'}"
      ]
     },
     "execution_count": 78,
     "metadata": {},
     "output_type": "execute_result"
    }
   ],
   "source": [
    "set3 = set2.copy()\n",
    "set3"
   ]
  },
  {
   "cell_type": "code",
   "execution_count": 80,
   "id": "38bc1ab4-55dc-4d93-a5c4-e8cc30b15d81",
   "metadata": {},
   "outputs": [
    {
     "name": "stdout",
     "output_type": "stream",
     "text": [
      "set3: {'e', 'b', 'a', 'd'}, set2 : {'b', 'a', 'd'}\n"
     ]
    }
   ],
   "source": [
    "set3.add('e')\n",
    "print(f\"set3: {set3}, set2 : {set2}\")"
   ]
  },
  {
   "cell_type": "code",
   "execution_count": 89,
   "id": "29302d12-7263-4130-a53e-4dacad69994f",
   "metadata": {},
   "outputs": [
    {
     "data": {
      "text/plain": [
       "{1, 2, 3, 4, 5, 7, 8, 9}"
      ]
     },
     "execution_count": 89,
     "metadata": {},
     "output_type": "execute_result"
    }
   ],
   "source": [
    "set1 = {1,2,3,4,5}\n",
    "set2 = {1,3,5,7,8,9}\n",
    "set3 = {1,3}\n",
    "set4 = {10,12}\n",
    "set1.union(set2)"
   ]
  },
  {
   "cell_type": "code",
   "execution_count": 82,
   "id": "a69f4ac4-3ba3-4621-8629-6657f45e7900",
   "metadata": {},
   "outputs": [
    {
     "data": {
      "text/plain": [
       "{1, 3, 5}"
      ]
     },
     "execution_count": 82,
     "metadata": {},
     "output_type": "execute_result"
    }
   ],
   "source": [
    "set1.intersection(set2)"
   ]
  },
  {
   "cell_type": "code",
   "execution_count": 86,
   "id": "7fb4b6a7-cf62-4be7-8589-8d7626510f85",
   "metadata": {},
   "outputs": [
    {
     "name": "stdout",
     "output_type": "stream",
     "text": [
      "False True\n"
     ]
    }
   ],
   "source": [
    "print(set1.issubset(set2),set3.issubset(set1))"
   ]
  },
  {
   "cell_type": "code",
   "execution_count": 90,
   "id": "3cec1ea1-8daa-45ab-8594-e2912191a238",
   "metadata": {},
   "outputs": [
    {
     "name": "stdout",
     "output_type": "stream",
     "text": [
      "False True\n"
     ]
    }
   ],
   "source": [
    "print(set1.isdisjoint(set2),set4.isdisjoint(set3))"
   ]
  },
  {
   "cell_type": "code",
   "execution_count": 92,
   "id": "53e0b59e-1fd8-41ee-b2b3-5a81ed7b04f9",
   "metadata": {},
   "outputs": [
    {
     "name": "stdout",
     "output_type": "stream",
     "text": [
      "{2, 4} {8, 9, 7}\n"
     ]
    }
   ],
   "source": [
    "print(set1.difference(set2),set2.difference(set1))"
   ]
  },
  {
   "cell_type": "markdown",
   "id": "6a236d34-2302-4018-a186-15a96f6efec0",
   "metadata": {},
   "source": [
    "### Enumerate method\n"
   ]
  },
  {
   "cell_type": "code",
   "execution_count": 94,
   "id": "43c41055-9469-4d74-9e2a-83a3691ee6de",
   "metadata": {},
   "outputs": [
    {
     "data": {
      "text/plain": [
       "{0: 'foo', 1: 'bar', 2: 'baz'}"
      ]
     },
     "execution_count": 94,
     "metadata": {},
     "output_type": "execute_result"
    }
   ],
   "source": [
    "lst1 = ['foo','bar','baz']\n",
    "mapping = {}\n",
    "for i,v in enumerate(lst1):\n",
    "    mapping[i]=v\n",
    "mapping"
   ]
  },
  {
   "cell_type": "code",
   "execution_count": 96,
   "id": "e24b6b82-e3a6-4d6b-b949-833f9e3b3bdc",
   "metadata": {},
   "outputs": [
    {
     "data": {
      "text/plain": [
       "{0: 'foo', 1: 'bar', 2: 'baz'}"
      ]
     },
     "execution_count": 96,
     "metadata": {},
     "output_type": "execute_result"
    }
   ],
   "source": [
    "tup1 = ('foo','bar','baz')\n",
    "mapping = {}\n",
    "for i,v in enumerate(tup1):\n",
    "    mapping[i]=v\n",
    "mapping"
   ]
  },
  {
   "cell_type": "code",
   "execution_count": 97,
   "id": "6d14d7bb-f045-4d78-9684-1f69730d5d4b",
   "metadata": {},
   "outputs": [
    {
     "data": {
      "text/plain": [
       "{0: 'baz', 1: 'bar', 2: 'foo'}"
      ]
     },
     "execution_count": 97,
     "metadata": {},
     "output_type": "execute_result"
    }
   ],
   "source": [
    "set1 = {'foo','bar','baz'}\n",
    "mapping = {}\n",
    "for i,v in enumerate(set1):\n",
    "    mapping[i]=v\n",
    "mapping"
   ]
  },
  {
   "cell_type": "markdown",
   "id": "09b3daf2-49dd-4bbd-9622-e8fccf753670",
   "metadata": {},
   "source": [
    "### Zip method \n",
    "#### it can combine two sequences(list, tuple, other sequences) to create a list of tuples"
   ]
  },
  {
   "cell_type": "code",
   "execution_count": 116,
   "id": "76a32b2a-7820-4549-b2ed-7bc0193fb0b0",
   "metadata": {},
   "outputs": [],
   "source": [
    "seq1 = ['foo','bar','baz']\n",
    "seq2 = ['first','second','third']\n",
    "zipped = zip(seq1,seq2)\n",
    "#list(zipped)"
   ]
  },
  {
   "cell_type": "code",
   "execution_count": 117,
   "id": "e19ad7f7-8f9b-4819-a4b1-1a030e9125f4",
   "metadata": {},
   "outputs": [],
   "source": [
    "dict1={}\n",
    "for i,v in enumerate(list(zipped)):\n",
    "    dict1[i]=v"
   ]
  },
  {
   "cell_type": "code",
   "execution_count": 119,
   "id": "b0acda5b-8e10-400c-ae90-f32ef54e6ae1",
   "metadata": {},
   "outputs": [
    {
     "data": {
      "text/plain": [
       "{0: ('foo', 'first'), 1: ('bar', 'second'), 2: ('baz', 'third')}"
      ]
     },
     "execution_count": 119,
     "metadata": {},
     "output_type": "execute_result"
    }
   ],
   "source": [
    "dict1"
   ]
  },
  {
   "cell_type": "markdown",
   "id": "f7b027b1-151b-40ee-b280-0bf893ffaee5",
   "metadata": {},
   "source": [
    "### Lambda Function\n",
    "#### one line function"
   ]
  },
  {
   "cell_type": "code",
   "execution_count": 138,
   "id": "d274a999-9cfb-4db9-9048-a684d6bf2a8d",
   "metadata": {},
   "outputs": [
    {
     "data": {
      "text/plain": [
       "[0, 1, 2, 3, 4, 5, 6, 7, 8, 9]"
      ]
     },
     "execution_count": 138,
     "metadata": {},
     "output_type": "execute_result"
    }
   ],
   "source": [
    "lst1 = list(range(10))\n",
    "lst1"
   ]
  },
  {
   "cell_type": "code",
   "execution_count": 122,
   "id": "0c037801-b46c-4beb-8128-8eb99aa7324f",
   "metadata": {},
   "outputs": [],
   "source": [
    "even = lambda x:x%2==0"
   ]
  },
  {
   "cell_type": "code",
   "execution_count": 131,
   "id": "8a697d1b-ecde-488f-9458-1dff7119e57a",
   "metadata": {},
   "outputs": [
    {
     "name": "stdout",
     "output_type": "stream",
     "text": [
      "[0, 2, 4, 6, 8]\n",
      "[1, 3, 5, 7, 9]\n"
     ]
    }
   ],
   "source": [
    "# list of even numbers\n",
    "print([i for i in lst1 if even(i)])\n",
    "# list of odd numbers\n",
    "print([i for i in lst1 if not even(i)])"
   ]
  },
  {
   "cell_type": "markdown",
   "id": "b1a6b3c1-5bf8-4d3a-99e4-add4821bb111",
   "metadata": {},
   "source": [
    "### Map method\n",
    "####  map is used to apply a function on all elements of iterables."
   ]
  },
  {
   "cell_type": "code",
   "execution_count": 142,
   "id": "27e71ee7-6f91-41a6-bd1b-04682aed0f0b",
   "metadata": {},
   "outputs": [
    {
     "data": {
      "text/plain": [
       "[0, 2, 4, 6, 8, 10, 12, 14, 16, 18]"
      ]
     },
     "execution_count": 142,
     "metadata": {},
     "output_type": "execute_result"
    }
   ],
   "source": [
    "def multiply(i:int):\n",
    "    return i*2\n",
    "result = map(multiply,lst1)\n",
    "list(result)"
   ]
  }
 ],
 "metadata": {
  "kernelspec": {
   "display_name": "Python 3 (ipykernel)",
   "language": "python",
   "name": "python3"
  },
  "language_info": {
   "codemirror_mode": {
    "name": "ipython",
    "version": 3
   },
   "file_extension": ".py",
   "mimetype": "text/x-python",
   "name": "python",
   "nbconvert_exporter": "python",
   "pygments_lexer": "ipython3",
   "version": "3.9.12"
  }
 },
 "nbformat": 4,
 "nbformat_minor": 5
}
