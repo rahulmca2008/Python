{
 "cells": [
  {
   "cell_type": "markdown",
   "metadata": {},
   "source": [
    "Python Basic : Syntax and Data Structure-\n",
    "-python is indentation oriented language\n",
    "-Single line comment - #\n",
    "- Multi line comment - '\"  '\"\n",
    "Introspection(?) - will display general information about variable,object and function\n",
    "\n",
    "Magic Commands:\n",
    "%run - to run any other python programme inside this programme\n",
    "%timeit - gives the execution time of any python statement\n",
    "%reset -f - clears namespace and variables\n",
    "\n",
    "\n",
    " "
   ]
  },
  {
   "cell_type": "code",
   "execution_count": 2,
   "metadata": {},
   "outputs": [],
   "source": [
    "a = 'foo'\n"
   ]
  },
  {
   "cell_type": "code",
   "execution_count": 5,
   "metadata": {},
   "outputs": [],
   "source": [
    "a?"
   ]
  },
  {
   "cell_type": "code",
   "execution_count": 12,
   "metadata": {},
   "outputs": [
    {
     "name": "stdout",
     "output_type": "stream",
     "text": [
      "[1, 2, 3]\n",
      "[1, 2, 3, 5]\n",
      "[1, 6, 2, 3, 5]\n",
      "[1, 6, 2, 3, 5, 7, 8, 9]\n",
      "[1, 6, 2, 3, 5, 7, 8, 9, 5]\n",
      "[1, 6, 2, 3, 7, 8, 9, 5]\n"
     ]
    }
   ],
   "source": [
    "list1 = [1,2,3]\n",
    "print(list1)\n",
    "list1.append(5)\n",
    "print(list1)\n",
    "list1.insert(1,6)\n",
    "print(list1)\n",
    "list1.extend([7,8,9])\n",
    "print(list1)\n",
    "list1.append(5)\n",
    "print(list1)\n",
    "list1.remove(5)\n",
    "print(list1)"
   ]
  },
  {
   "cell_type": "code",
   "execution_count": 17,
   "metadata": {},
   "outputs": [
    {
     "data": {
      "text/plain": [
       "[1, 6, 2, 3, 7, 8, 9, 5]"
      ]
     },
     "execution_count": 17,
     "metadata": {},
     "output_type": "execute_result"
    }
   ],
   "source": [
    "# there are 2 copy methods in python : Shallow and deep copy , shallow copy change will reflect in original object, deep copy will not reflecct in original object\n",
    "list2 = list1.copy()\n",
    "list3 = list1\n",
    "list2"
   ]
  },
  {
   "cell_type": "code",
   "execution_count": 18,
   "metadata": {},
   "outputs": [
    {
     "name": "stdout",
     "output_type": "stream",
     "text": [
      "[1, 6, 2, 3, 7, 8, 9, 5]\n",
      "[1, 6, 2, 3, 7, 8, 9, 5, 10]\n",
      "[1, 6, 2, 3, 7, 8, 9, 5, 12]\n",
      "[1, 6, 2, 3, 7, 8, 9, 5, 12]\n"
     ]
    }
   ],
   "source": [
    "list2.append(10)\n",
    "print(list1)\n",
    "print(list2)\n",
    "list3.append(12)\n",
    "print(list1)\n",
    "print(list3)"
   ]
  },
  {
   "cell_type": "code",
   "execution_count": 54,
   "metadata": {},
   "outputs": [
    {
     "name": "stdout",
     "output_type": "stream",
     "text": [
      "ramesh\n",
      "[1, 2, 8, 3, 4, 4, 6, 7, (9, 10)]\n",
      "True\n",
      "False\n",
      "[1, 2, 3, 4, 4, 6, 7, 8, 12, 13, 14]\n",
      "[2, 3, 4, 4]\n",
      "2\n",
      "[2, 3, 4]\n"
     ]
    }
   ],
   "source": [
    "a=5\n",
    "ab =6\n",
    "an_example='ramesh'\n",
    "a_list = [1,2,4,3]\n",
    "b_list = [12,13,14]\n",
    "c_list = list([2,3,4])\n",
    "print(an_example)\n",
    "a_list.append(4)\n",
    "a_list.insert(2,8)\n",
    "a_list.append(4)\n",
    "a_list.remove(4)\n",
    "a_list.extend([6,7,(9,10)])\n",
    "print(a_list)\n",
    "a_list.remove((9,10))\n",
    "print(2 in a_list)\n",
    "print(4 not in a_list)\n",
    "a_list.sort()\n",
    "print(a_list + b_list) # concatenation\n",
    "print(a_list[1:5]) # Slicing\n",
    "print(a_list.count(4))\n",
    "print(c_list)"
   ]
  },
  {
   "cell_type": "code",
   "execution_count": 24,
   "metadata": {},
   "outputs": [
    {
     "name": "stdout",
     "output_type": "stream",
     "text": [
      "2 1\n",
      "(1, 6, 2, 3, 7, 8, 9, 5, 12)\n",
      "(1, 2, 3, 4, 1, 6, 2, 3, 7, 8, 9, 5, 12)\n"
     ]
    }
   ],
   "source": [
    "t1 = (1,2,3,4)\n",
    "print(t1.index(3),t1.count(3))\n",
    "t2 = tuple(list1)\n",
    "print(t2)\n",
    "t3 = t1+t2\n",
    "print(t3)"
   ]
  },
  {
   "cell_type": "code",
   "execution_count": 29,
   "metadata": {},
   "outputs": [
    {
     "name": "stdout",
     "output_type": "stream",
     "text": [
      "1 2 [3, 4]\n"
     ]
    }
   ],
   "source": [
    "a,b,*_= t1\n",
    "print(a,b,_)"
   ]
  },
  {
   "cell_type": "code",
   "execution_count": 36,
   "metadata": {},
   "outputs": [
    {
     "name": "stdout",
     "output_type": "stream",
     "text": [
      "(1, 2, 3, ['four', 'five'])\n",
      "(1, 2, 3, [4, 'five'])\n",
      "(1, 2, 3, [4, 'five'], 4, 5, 6)\n",
      "(4, 5, 6, 4, 5, 6, 4, 5, 6)\n",
      "4 5 6\n"
     ]
    },
    {
     "data": {
      "text/plain": [
       "(5,)"
      ]
     },
     "execution_count": 36,
     "metadata": {},
     "output_type": "execute_result"
    }
   ],
   "source": [
    "# Tuple\n",
    "#tup1 = (1,2,3)\n",
    "tup1=(1,2,3,['four','five'])\n",
    "tup2=(4,5,6)\n",
    "print(tup1)\n",
    "tup1[3][0] = 4\n",
    "print(tup1)\n",
    "tup1.count(2) # count method takes exactly one argument to count a specific elements\n",
    "print(tup1+tup2) # the only way to concatenate a tuple by + operator\n",
    "print(tup2*3) # concatenating that many times * \n",
    "d,e,f= tup2\n",
    "print(d,e,f)\n",
    "tup2[1:2]\n"
   ]
  },
  {
   "cell_type": "code",
   "execution_count": 1,
   "metadata": {},
   "outputs": [
    {
     "name": "stdout",
     "output_type": "stream",
     "text": [
      "{'a': 1, 'b': 2, 'c': 3}\n"
     ]
    }
   ],
   "source": [
    "#dictionary having key and value pair. value could be list, dictionary. \n",
    "#dictionary can contain list ,tuple, another dictionary. dictionary can be inside list\n",
    "dict1 = {'a':1,'b':2,'c':3}\n",
    "print(dict1)"
   ]
  },
  {
   "cell_type": "code",
   "execution_count": 9,
   "metadata": {},
   "outputs": [
    {
     "name": "stdout",
     "output_type": "stream",
     "text": [
      "{'a': 1, 'b': 2, 'c': 3, 'd': 6, 'f': 8, 12: 'b', 13: [1, 3, 5, 7], 14: (2, 5, 9), 15: {'drr': 'haritech', 'madam': 'haritech'}}\n"
     ]
    }
   ],
   "source": [
    "dict1['d'] = 6\n",
    "dict1['f'] = 8\n",
    "dict1[12]='b'\n",
    "dict1[13] = [1,3,5,7]\n",
    "dict1[14] = (2,5,9)\n",
    "dict1[15] = {'drr':'haritech','madam':'haritech'}\n",
    "print(dict1)"
   ]
  },
  {
   "cell_type": "code",
   "execution_count": 10,
   "metadata": {},
   "outputs": [
    {
     "name": "stdout",
     "output_type": "stream",
     "text": [
      "{'a': 1, 'b': 2, 'c': 3, 'd': 6, 12: 'b', 13: [1, 3, 5, 7], 14: (2, 5, 9), 15: {'drr': 'haritech', 'madam': 'haritech'}}\n"
     ]
    }
   ],
   "source": [
    "# to remove a specific key from dictionary\n",
    "del dict1['f']\n",
    "print(dict1)"
   ]
  },
  {
   "cell_type": "code",
   "execution_count": 12,
   "metadata": {},
   "outputs": [
    {
     "name": "stdout",
     "output_type": "stream",
     "text": [
      "{'a': 10, 'b': 2, 'c': 13, 'd': 6, 12: 'b', 13: [1, 3, 5, 7], 14: (2, 5, 9), 15: {'drr': 'haritech', 'madam': 'haritech'}}\n"
     ]
    }
   ],
   "source": [
    "dict1.update({'a':10,'c':13})\n",
    "print(dict1)"
   ]
  },
  {
   "cell_type": "code",
   "execution_count": 14,
   "metadata": {},
   "outputs": [
    {
     "name": "stdout",
     "output_type": "stream",
     "text": [
      "{'a': 12, 'b': 2, 'c': 13, 'd': 6, 12: 'b', 13: [1, 3, 5, 7], 14: (2, 5, 9), 15: {'drr': 'haritech', 'madam': 'haritech'}}\n",
      "dict_keys(['a', 'b', 'c', 'd', 12, 13, 14, 15])\n",
      "dict_values([12, 2, 13, 6, 'b', [1, 3, 5, 7], (2, 5, 9), {'drr': 'haritech', 'madam': 'haritech'}])\n"
     ]
    }
   ],
   "source": [
    "dict1['a'] = 12\n",
    "print(dict1)\n",
    "print(dict1.keys())\n",
    "print(dict1.values())"
   ]
  },
  {
   "cell_type": "code",
   "execution_count": 15,
   "metadata": {},
   "outputs": [
    {
     "data": {
      "text/plain": [
       "{1: 'a', 2: 'b', 3: 'c'}"
      ]
     },
     "execution_count": 15,
     "metadata": {},
     "output_type": "execute_result"
    }
   ],
   "source": [
    "dict(zip([1,2,3],['a','b','c']))"
   ]
  },
  {
   "cell_type": "code",
   "execution_count": 4,
   "metadata": {},
   "outputs": [
    {
     "name": "stdout",
     "output_type": "stream",
     "text": [
      "{1: 'Ram', 2: 'Shyam', 3: 'Ghanshyam'}\n",
      "{1: 'Ram', 2: 'Shyam', 3: 'Ghanshyam', 4: 'Maheshwar', 8: 'Ramesh', 9: 'Mahesh'}\n"
     ]
    },
    {
     "data": {
      "text/plain": [
       "{0: 4, 1: 3, 2: 2, 3: 1, 4: 0}"
      ]
     },
     "execution_count": 4,
     "metadata": {},
     "output_type": "execute_result"
    }
   ],
   "source": [
    "# Dictionary \n",
    "a_dict = {1:'Ram',2:'Shyam',3:'Ghanshyam'}\n",
    "print(a_dict)\n",
    "a_dict[4]= 'Maheshwar'\n",
    "\n",
    "a_dict.update({8:'Ramesh',9:'Mahesh'})\n",
    "a_dict.keys()\n",
    "a_dict.values()\n",
    "\n",
    "b_dict= dict(zip(range(5),reversed(range(5))))\n",
    "print(a_dict)\n",
    "b_dict"
   ]
  },
  {
   "cell_type": "code",
   "execution_count": 41,
   "metadata": {},
   "outputs": [
    {
     "name": "stdout",
     "output_type": "stream",
     "text": [
      "['T', 'h', 'i', 's', ' ', 'i', 's', ' ', 'a', ' ', 's', 't', 'r', 'i', 'n', 'g']\n",
      "This is a replace\n",
      "This is a string and This is a replace\n",
      "Rajendra prasad  first president india\n",
      "15 -1 3\n"
     ]
    },
    {
     "data": {
      "text/plain": [
       "'Rajendra prasad::first::president::india'"
      ]
     },
     "execution_count": 41,
     "metadata": {},
     "output_type": "execute_result"
    }
   ],
   "source": [
    "# String\n",
    "\n",
    "a_str= 'This is a string'\n",
    "print(list(a_str))\n",
    "b_str = a_str.replace('string','replace')\n",
    "print(b_str)\n",
    "print(a_str+' and '+ b_str)\n",
    "val= 'Rajendra prasad, first,president,india'\n",
    "print(val.replace(',',' '))\n",
    "pieces = [x.strip() for x in val.split(',')]\n",
    "#pieces\n",
    "print(val.index(',') ,val.find('are'), val.count(','))\n",
    "'::'.join(pieces)"
   ]
  },
  {
   "cell_type": "code",
   "execution_count": 20,
   "metadata": {},
   "outputs": [
    {
     "name": "stdout",
     "output_type": "stream",
     "text": [
      "This is devraj\n",
      "This is drr\n",
      "Dr. APJ Kalam: is: very: good president in India for India\n",
      "Dr. APJ Kalam is very good president in India for India\n",
      "['Dr.', 'APJ', 'Kalam', 'is', 'very', 'good', 'president', 'in', 'India', 'for', 'India']\n",
      "2\n"
     ]
    }
   ],
   "source": [
    "str1 = 'This is devraj'\n",
    "print(str1)\n",
    "str2 = str1.replace('devraj','drr')\n",
    "print(str2)\n",
    "str3 = 'Dr. APJ Kalam: is: very: good president in India for India'\n",
    "print(str3)\n",
    "str3 = str3.replace(':','')\n",
    "print(str3)\n",
    "print(str3.split(' '))\n",
    "print(str3.count('India'))"
   ]
  },
  {
   "cell_type": "code",
   "execution_count": 22,
   "metadata": {},
   "outputs": [
    {
     "name": "stdout",
     "output_type": "stream",
     "text": [
      "3.6\n",
      "3.6\n",
      "True\n",
      "<class 'float'>\n",
      "3\n",
      "<class 'int'>\n"
     ]
    }
   ],
   "source": [
    "# Typecasting: converting from 1 variable type to another variable type\n",
    "a_f= 3.6\n",
    "print(a_f)\n",
    "print(str(a_f))\n",
    "print(bool(a_f))\n",
    "print(type(a_f))\n",
    "print(int(a_f))\n",
    "b = 3\n",
    "print(type(b))"
   ]
  },
  {
   "cell_type": "code",
   "execution_count": 23,
   "metadata": {},
   "outputs": [
    {
     "name": "stdout",
     "output_type": "stream",
     "text": [
      "2022-05-18 21:28:52.426582\n",
      "2018-05-01 13:50:40\n"
     ]
    }
   ],
   "source": [
    "# Datetime\n",
    "from datetime import datetime\n",
    "dt1= datetime.now()\n",
    "print(dt1)\n",
    "dt2= datetime(2018,5,1,13,50,40)\n",
    "print(dt2.date(), dt2.time())\n"
   ]
  },
  {
   "cell_type": "code",
   "execution_count": 29,
   "metadata": {},
   "outputs": [
    {
     "data": {
      "text/plain": [
       "['r', 'r', 'd']"
      ]
     },
     "execution_count": 29,
     "metadata": {},
     "output_type": "execute_result"
    }
   ],
   "source": [
    "list(reversed('drr'))"
   ]
  },
  {
   "cell_type": "code",
   "execution_count": null,
   "metadata": {},
   "outputs": [],
   "source": []
  }
 ],
 "metadata": {
  "kernelspec": {
   "display_name": "Python 3",
   "language": "python",
   "name": "python3"
  },
  "language_info": {
   "codemirror_mode": {
    "name": "ipython",
    "version": 3
   },
   "file_extension": ".py",
   "mimetype": "text/x-python",
   "name": "python",
   "nbconvert_exporter": "python",
   "pygments_lexer": "ipython3",
   "version": "3.8.5"
  }
 },
 "nbformat": 4,
 "nbformat_minor": 2
}
